{
 "cells": [
  {
   "cell_type": "code",
   "execution_count": 49,
   "id": "127ccfe7",
   "metadata": {
    "scrolled": true
   },
   "outputs": [
    {
     "name": "stdout",
     "output_type": "stream",
     "text": [
      "How much is at stake?\n",
      "10\n",
      "What are the odds?\n",
      "-105\n"
     ]
    }
   ],
   "source": [
    "amount = float(input('How much is at stake?\\n'))\n",
    "odds = int(input('What are the odds?\\n'))"
   ]
  },
  {
   "cell_type": "code",
   "execution_count": 50,
   "id": "5144e4e6",
   "metadata": {},
   "outputs": [],
   "source": [
    "cleaned_odds = abs(odds)\n",
    "\n",
    "winnings = round(((cleaned_odds / 100) * amount) if odds > 0 else ((100 / cleaned_odds) * amount), 2)\n",
    "win_str = str(winnings)\n",
    "\n",
    "implied_probability = round((100 / (100 + cleaned_odds)) if odds > 0 else (cleaned_odds / (100 + cleaned_odds)), 2)\n",
    "implied_probability_100 = implied_probability *100\n",
    "implied_probability_str = str(implied_probability_100)\n",
    "\n",
    "ev = round((implied_probability * winnings) - ((1 - implied_probability) * amount), 2)\n",
    "str_ev = str(ev)"
   ]
  },
  {
   "cell_type": "code",
   "execution_count": 51,
   "id": "c013a0a8",
   "metadata": {},
   "outputs": [
    {
     "name": "stdout",
     "output_type": "stream",
     "text": [
      "If I win, I'll make a profit of $9.52.\n",
      "My chances of winning are 51.0%.\n",
      "The expected Value of this bet is $-0.04.\n"
     ]
    }
   ],
   "source": [
    "print(\"If I win, I'll make a profit of $\" + win_str + \".\")\n",
    "print(\"My chances of winning are \" + implied_probability_str + \"%.\")\n",
    "print(\"The expected Value of this bet is $\" + str_ev +\".\")"
   ]
  },
  {
   "cell_type": "code",
   "execution_count": null,
   "id": "02f8a5be",
   "metadata": {},
   "outputs": [],
   "source": []
  }
 ],
 "metadata": {
  "kernelspec": {
   "display_name": "Python 3 (ipykernel)",
   "language": "python",
   "name": "python3"
  },
  "language_info": {
   "codemirror_mode": {
    "name": "ipython",
    "version": 3
   },
   "file_extension": ".py",
   "mimetype": "text/x-python",
   "name": "python",
   "nbconvert_exporter": "python",
   "pygments_lexer": "ipython3",
   "version": "3.9.7"
  }
 },
 "nbformat": 4,
 "nbformat_minor": 5
}
